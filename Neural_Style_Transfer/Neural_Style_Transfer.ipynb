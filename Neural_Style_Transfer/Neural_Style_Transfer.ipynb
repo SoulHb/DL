{
  "nbformat": 4,
  "nbformat_minor": 0,
  "metadata": {
    "colab": {
      "provenance": [],
      "mount_file_id": "12joErSe-y8STB4SfCmFRRfdVm2ao2JJz",
      "authorship_tag": "ABX9TyN8dRJm/k186cYpakc/LbuG",
      "include_colab_link": true
    },
    "kernelspec": {
      "name": "python3",
      "display_name": "Python 3"
    },
    "language_info": {
      "name": "python"
    },
    "accelerator": "TPU"
  },
  "cells": [
    {
      "cell_type": "markdown",
      "metadata": {
        "id": "view-in-github",
        "colab_type": "text"
      },
      "source": [
        "<a href=\"https://colab.research.google.com/github/SolutionLr/DL/blob/main/Neural_Style_Transfer.ipynb\" target=\"_parent\"><img src=\"https://colab.research.google.com/assets/colab-badge.svg\" alt=\"Open In Colab\"/></a>"
      ]
    },
    {
      "cell_type": "code",
      "source": [
        "# import necessary modules \n",
        "from google.colab import drive\n",
        "drive.mount('/content/drive')\n",
        "from torchvision import models\n",
        "from torchvision import transforms\n",
        "from torchvision.utils import save_image\n",
        "from PIL import Image\n",
        "import argparse\n",
        "import torch\n",
        "import torchvision\n",
        "import torch.nn as nn\n",
        "import numpy as np\n",
        "\n",
        "# Device configuration\n",
        "device = torch.device('cuda' if torch.cuda.is_available() else 'cpu')\n",
        "\n",
        "# Load data\n",
        "def load_image(image_path, transform=None):\n",
        "    \"\"\"Load an image and convert it to a torch tensor.\"\"\"\n",
        "    image = Image.open(image_path)\n",
        "    image = transform(image).unsqueeze(0)\n",
        "    return image.to(device)\n",
        "\n",
        "\n",
        "transform = transforms.Compose([\n",
        "        transforms.Resize((400, 400)),\n",
        "        transforms.ToTensor(),\n",
        "])\n",
        "\n",
        "\n",
        "# Create model\n",
        "class VGGNet(nn.Module):\n",
        "    def __init__(self):\n",
        "        \"\"\"Select conv1_1 ~ conv5_1 activation maps.\"\"\"\n",
        "        super(VGGNet, self).__init__()\n",
        "        self.select = ['0', '5', '10', '19', '28']\n",
        "        self.vgg = models.vgg19(pretrained=True).features\n",
        "\n",
        "    def forward(self, x):\n",
        "        \"\"\"Extract multiple convolutional feature maps.\"\"\"\n",
        "        features = []\n",
        "        for name, layer in self.vgg._modules.items():\n",
        "            x = layer(x)\n",
        "            if name in self.select:\n",
        "                features.append(x)\n",
        "        return features\n",
        "\n",
        "\n",
        "model = VGGNet().to(device).eval()\n",
        "\n",
        "\n",
        "# Load images\n",
        "content = load_image('/content/drive/MyDrive/DL_1/Neural Style Transfer/content.jpg', transform)\n",
        "style = load_image('/content/drive/MyDrive/DL_1/Neural Style Transfer/style.jpg', transform)\n",
        "generated = content.clone().requires_grad_(True)\n",
        "\n",
        "# train\n",
        "optimizer = torch.optim.Adam([generated], lr=0.03)\n",
        "epoch = 2000\n",
        "for i in range(epoch):\n",
        "    c_f = model(content)\n",
        "    s_f = model(style)\n",
        "    g_f = model(generated)\n",
        "    j_content = 0\n",
        "    j_style = 0\n",
        "    for f1, f2, f3 in zip(c_f, s_f, g_f):\n",
        "        _, C, H, W = list(f3.size())\n",
        "        j_content += 1 / (4 * C * H * W) * torch.sum(torch.square(torch.subtract(f1, f3)))\n",
        "        Gg = f3.view(C, H*W)\n",
        "        Gg = torch.mm(Gg, Gg.t())\n",
        "        Gs = f2.view(C, H*W)\n",
        "        Gs = torch.mm(Gs, Gs.t())\n",
        "        j_style += 1/(H**2 * H**2 * W **2) * torch.sum(torch.square(torch.subtract(Gg, Gs)))\n",
        "    optimizer.zero_grad()\n",
        "    J = j_content + 1/5 * j_style\n",
        "    J.backward()\n",
        "    optimizer.step()\n",
        "    if i%10==0 and i!=0:\n",
        "        print(f\"Loss ==> {J} n_steps ==>[{i}/2000]\")\n",
        "        save_image(generated, 'generated.png')\n"
      ],
      "metadata": {
        "id": "RGMhTuiHzumB"
      },
      "execution_count": null,
      "outputs": []
    }
  ]
}