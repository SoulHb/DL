{
  "nbformat": 4,
  "nbformat_minor": 0,
  "metadata": {
    "colab": {
      "provenance": [],
      "mount_file_id": "12joErSe-y8STB4SfCmFRRfdVm2ao2JJz",
      "authorship_tag": "ABX9TyMM9iEABKSlXr/AdouE6rEY",
      "include_colab_link": true
    },
    "kernelspec": {
      "name": "python3",
      "display_name": "Python 3"
    },
    "language_info": {
      "name": "python"
    },
    "accelerator": "TPU"
  },
  "cells": [
    {
      "cell_type": "markdown",
      "metadata": {
        "id": "view-in-github",
        "colab_type": "text"
      },
      "source": [
        "<a href=\"https://colab.research.google.com/github/SolutionLr/DL/blob/main/coffee_beans_dataset.ipynb\" target=\"_parent\"><img src=\"https://colab.research.google.com/assets/colab-badge.svg\" alt=\"Open In Colab\"/></a>"
      ]
    },
    {
      "cell_type": "code",
      "source": [
        "# import necessary modules \n",
        "from google.colab import drive\n",
        "drive.mount('/content/drive')\n",
        "from PIL import Image\n",
        "from torch.utils.data import Dataset\n",
        "from skimage import io\n",
        "from sklearn.model_selection import train_test_split\n",
        "import pandas as pd\n",
        "import torch\n",
        "import numpy as np\n",
        "import os\n",
        "torch.manual_seed(0)\n",
        "np.random.seed(0)\n",
        "\n",
        "\n",
        "class Coffee_Beans(Dataset):\n",
        "    def __init__(self, root_dir, csv_file, transform=None):\n",
        "        super(Coffee_Beans, self).__init__()\n",
        "        self.annotations = pd.read_csv(csv_file)\n",
        "        self.root_dir = root_dir\n",
        "        self.transform = transform\n",
        "\n",
        "    def __len__(self):\n",
        "        return len(self.annotations)\n",
        "\n",
        "    def __getitem__(self, index):\n",
        "        img_path = os.path.join(self.root_dir, self.annotations.iloc[index, 1])\n",
        "        image = io.imread(img_path)\n",
        "        y_label = torch.tensor(int(self.annotations.iloc[index, 0]))\n",
        "        if self.transform:\n",
        "            image = self.transform(image)\n",
        "        return image, y_label\n",
        "\n",
        "    def train_test_loader(self):\n",
        "        train_ind, test_ind = train_test_split(list(range(len(self))), shuffle=True,\n",
        "                                               test_size=0.2,\n",
        "                                               stratify=self.annotations.loc[:, 'class index'].tolist())\n",
        "        train_dataset = torch.utils.data.Subset(self, train_ind)\n",
        "        test_dataset = torch.utils.data.Subset(self, test_ind)\n",
        "        train_loader = torch.utils.data.DataLoader( train_dataset, batch_size=64, shuffle=True)\n",
        "        test_loader = torch.utils.data.DataLoader(test_dataset, batch_size=64, shuffle=True)\n",
        "        return train_loader, test_loader"
      ],
      "metadata": {
        "collapsed": true,
        "id": "RGMhTuiHzumB"
      },
      "execution_count": null,
      "outputs": []
    }
  ]
}