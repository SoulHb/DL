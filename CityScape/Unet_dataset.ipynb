{
  "nbformat": 4,
  "nbformat_minor": 0,
  "metadata": {
    "colab": {
      "provenance": [],
      "mount_file_id": "12joErSe-y8STB4SfCmFRRfdVm2ao2JJz",
      "authorship_tag": "ABX9TyMxoy6AZQtYoCPQGNb1VLI1",
      "include_colab_link": true
    },
    "kernelspec": {
      "name": "python3",
      "display_name": "Python 3"
    },
    "language_info": {
      "name": "python"
    },
    "accelerator": "TPU"
  },
  "cells": [
    {
      "cell_type": "markdown",
      "metadata": {
        "id": "view-in-github",
        "colab_type": "text"
      },
      "source": [
        "<a href=\"https://colab.research.google.com/github/SolutionLr/DL/blob/main/Unet_dataset.ipynb\" target=\"_parent\"><img src=\"https://colab.research.google.com/assets/colab-badge.svg\" alt=\"Open In Colab\"/></a>"
      ]
    },
    {
      "cell_type": "code",
      "source": [
        "# import necessary modules \n",
        "from google.colab import drive\n",
        "drive.mount('/content/drive')\n",
        "import numpy as np\n",
        "import matplotlib.pyplot as plt\n",
        "import pandas as pd\n",
        "import torchvision\n",
        "import os\n",
        "from PIL import Image\n",
        "from torch.utils.data import Dataset\n",
        "import torchvision.transforms as transforms\n",
        "from sklearn.model_selection import train_test_split\n",
        "import torch\n",
        "import cv2\n",
        "from glob import glob\n",
        "torch.manual_seed(0)\n",
        "np.random.seed(0)\n",
        "\n",
        "mask_data = pd.read_csv('/content/drive/MyDrive/DL_1/U-Net/unet_dataset/class_dict.csv')\n",
        "mask_data = dict(\n",
        "        [(i, [x, y, z]) for i, x, y, z in zip(mask_data['name'], mask_data['r'], mask_data['g'], mask_data['b'])])\n",
        "\n",
        "\n",
        "class Data(Dataset):\n",
        "    def __init__(self, img_dir, mask_dir, transform):\n",
        "        super(Data, self).__init__()\n",
        "        self.img_dir = img_dir\n",
        "        self.mask_dir = mask_dir\n",
        "        self.images = os.listdir(img_dir)\n",
        "        self.masks = os.listdir(mask_dir)\n",
        "        self.transform = transform\n",
        "\n",
        "    def __len__(self):\n",
        "        return len(self.images)\n",
        "\n",
        "    def __getitem__(self, index):\n",
        "        img_path = os.path.join(self.img_dir, self.images[index])\n",
        "        mask_path = os.path.join(self.mask_dir, self.masks[index])\n",
        "        image = cv2.imread(img_path, cv2.IMREAD_COLOR)\n",
        "        image = cv2.cvtColor(image, cv2.COLOR_BGR2RGB)\n",
        "        mask = cv2.imread(mask_path, cv2.IMREAD_COLOR)\n",
        "        mask = cv2.cvtColor(mask, cv2.COLOR_BGR2RGB)\n",
        "        if self.transform is not None:\n",
        "            transformed_image = self.transform['train'](image=image)\n",
        "            transformed_mask = self.transform['val'](image=mask)\n",
        "            image = transformed_image['image']\n",
        "            mask = transformed_mask['image']\n",
        "            mask = process_mask(mask)\n",
        "            mask = torch.from_numpy(mask)\n",
        "            image = image.to(torch.float32)\n",
        "            mask = mask.to(torch.int64)\n",
        "        return image, mask\n",
        "\n",
        "    def load_data(self, batch_size):\n",
        "        loader = torch.utils.data.DataLoader(self, batch_size=batch_size, shuffle=True)\n",
        "        return loader\n",
        "\n",
        "\n",
        "def process_mask(rgb_mask, colormap=mask_data.values()):\n",
        "    output_mask = []\n",
        "\n",
        "    for i, color in enumerate(colormap):\n",
        "        cmap = np.all(np.equal(rgb_mask, color), axis=-1)\n",
        "        output_mask.append(cmap)\n",
        "\n",
        "    output_mask = np.stack(output_mask, axis=-1)\n",
        "    return np.argmax(output_mask, axis=-1)\n",
        "\n"
      ],
      "metadata": {
        "collapsed": true,
        "id": "RGMhTuiHzumB"
      },
      "execution_count": null,
      "outputs": []
    }
  ]
}